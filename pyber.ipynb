{
 "cells": [
  {
   "cell_type": "markdown",
   "metadata": {},
   "source": [
    "# PYBER"
   ]
  },
  {
   "cell_type": "markdown",
   "metadata": {},
   "source": [
    "![title](Ride.png)"
   ]
  },
  {
   "cell_type": "markdown",
   "metadata": {},
   "source": [
    "This report offers some data-backed guidance on new opportunities for market differentiation to Pyber,a ride-sharing startup.\n",
    "The data used in this report is the company's complete recordset of rides containing information about every active driver and historic ride,\n",
    "including details like city, driver count, individual fares, and city type.\n",
    "\n",
    "----\n",
    "\n",
    "### Analysis\n",
    "\n",
    "---"
   ]
  },
  {
   "cell_type": "markdown",
   "metadata": {},
   "source": [
    "* Urban areas have the largest number of rides followed by Suburban and Rural areas."
   ]
  },
  {
   "cell_type": "markdown",
   "metadata": {},
   "source": [
    "* Urban Areas also have many more drivers as compared to other areas. Over 85% of the drivers work in the Urban areas."
   ]
  },
  {
   "cell_type": "markdown",
   "metadata": {},
   "source": [
    "Average per driver fares by city type:\n",
    "    \n",
    "* Overall the drivers made between 0.3 to 42.26 dollars in fares with an average of 4.60 dollars\n",
    "* Urban drivers made between 0.3 and 7.67 dollars in fares with an average of 1.22 dollars\n",
    "* Suburban drivers made between 1.10 and 33.96 dollars in fares with an average of 5.15 dollars\n",
    "* Rural drivers made between 3.30 and 42.26 dollars in fares with an average of 15.88 dollars\n",
    "\n"
   ]
  },
  {
   "cell_type": "markdown",
   "metadata": {},
   "source": [
    " These numbers could be used to encourage more drivers to work in the rural and suburban areas."
   ]
  },
  {
   "cell_type": "markdown",
   "metadata": {},
   "source": [
    "One another note, it may be useful to check for any loss in revenue due to un-fulfilled ride requests in the rural and suburban areas because of the shortage of drivers. \n",
    "\n"
   ]
  },
  {
   "cell_type": "code",
   "execution_count": 1,
   "metadata": {},
   "outputs": [
    {
     "data": {
      "text/html": [
       "<div>\n",
       "<style scoped>\n",
       "    .dataframe tbody tr th:only-of-type {\n",
       "        vertical-align: middle;\n",
       "    }\n",
       "\n",
       "    .dataframe tbody tr th {\n",
       "        vertical-align: top;\n",
       "    }\n",
       "\n",
       "    .dataframe thead th {\n",
       "        text-align: right;\n",
       "    }\n",
       "</style>\n",
       "<table border=\"1\" class=\"dataframe\">\n",
       "  <thead>\n",
       "    <tr style=\"text-align: right;\">\n",
       "      <th></th>\n",
       "      <th>city</th>\n",
       "      <th>date</th>\n",
       "      <th>fare</th>\n",
       "      <th>ride_id</th>\n",
       "      <th>driver_count</th>\n",
       "      <th>type</th>\n",
       "      <th>av fare/driver</th>\n",
       "    </tr>\n",
       "  </thead>\n",
       "  <tbody>\n",
       "    <tr>\n",
       "      <th>0</th>\n",
       "      <td>Lake Jonathanshire</td>\n",
       "      <td>2018-01-14 10:14:22</td>\n",
       "      <td>13.83</td>\n",
       "      <td>5739410935873</td>\n",
       "      <td>5</td>\n",
       "      <td>Urban</td>\n",
       "      <td>2.766000</td>\n",
       "    </tr>\n",
       "    <tr>\n",
       "      <th>1</th>\n",
       "      <td>South Michelleport</td>\n",
       "      <td>2018-03-04 18:24:09</td>\n",
       "      <td>30.24</td>\n",
       "      <td>2343912425577</td>\n",
       "      <td>72</td>\n",
       "      <td>Urban</td>\n",
       "      <td>0.420000</td>\n",
       "    </tr>\n",
       "    <tr>\n",
       "      <th>2</th>\n",
       "      <td>Port Samanthamouth</td>\n",
       "      <td>2018-02-24 04:29:00</td>\n",
       "      <td>33.44</td>\n",
       "      <td>2005065760003</td>\n",
       "      <td>57</td>\n",
       "      <td>Urban</td>\n",
       "      <td>0.586667</td>\n",
       "    </tr>\n",
       "    <tr>\n",
       "      <th>3</th>\n",
       "      <td>Rodneyfort</td>\n",
       "      <td>2018-02-10 23:22:03</td>\n",
       "      <td>23.44</td>\n",
       "      <td>5149245426178</td>\n",
       "      <td>34</td>\n",
       "      <td>Urban</td>\n",
       "      <td>0.689412</td>\n",
       "    </tr>\n",
       "    <tr>\n",
       "      <th>4</th>\n",
       "      <td>South Jack</td>\n",
       "      <td>2018-03-06 04:28:35</td>\n",
       "      <td>34.58</td>\n",
       "      <td>3908451377344</td>\n",
       "      <td>46</td>\n",
       "      <td>Urban</td>\n",
       "      <td>0.751739</td>\n",
       "    </tr>\n",
       "  </tbody>\n",
       "</table>\n",
       "</div>"
      ],
      "text/plain": [
       "                 city                 date   fare        ride_id  \\\n",
       "0  Lake Jonathanshire  2018-01-14 10:14:22  13.83  5739410935873   \n",
       "1  South Michelleport  2018-03-04 18:24:09  30.24  2343912425577   \n",
       "2  Port Samanthamouth  2018-02-24 04:29:00  33.44  2005065760003   \n",
       "3          Rodneyfort  2018-02-10 23:22:03  23.44  5149245426178   \n",
       "4          South Jack  2018-03-06 04:28:35  34.58  3908451377344   \n",
       "\n",
       "   driver_count   type  av fare/driver  \n",
       "0             5  Urban        2.766000  \n",
       "1            72  Urban        0.420000  \n",
       "2            57  Urban        0.586667  \n",
       "3            34  Urban        0.689412  \n",
       "4            46  Urban        0.751739  "
      ]
     },
     "execution_count": 1,
     "metadata": {},
     "output_type": "execute_result"
    }
   ],
   "source": [
    "%matplotlib inline\n",
    "# Dependencies and Setup\n",
    "import matplotlib.pyplot as plt\n",
    "import pandas as pd\n",
    "import numpy as np\n",
    "\n",
    "# File to Load (Remember to change these)\n",
    "city_data_to_load = \"data/city_data.csv\"\n",
    "ride_data_to_load = \"data/ride_data.csv\"\n",
    "\n",
    "# Read the City and Ride Data\n",
    "city_df = pd.read_csv(city_data_to_load)\n",
    "ride_df = pd.read_csv(ride_data_to_load)\n",
    "\n",
    "# Combine the data into a single dataset\n",
    "pyber_df = pd.merge(ride_df, city_df, how=\"left\", on=\"city\")\n",
    "\n",
    "pyber_df[\"av fare/driver\"] = pyber_df[\"fare\"]/pyber_df[\"driver_count\"]\n",
    "# Display the data table for preview\n",
    "pyber_df.head()"
   ]
  },
  {
   "cell_type": "markdown",
   "metadata": {},
   "source": [
    "## Bubble Plot of Ride Sharing Data"
   ]
  },
  {
   "cell_type": "markdown",
   "metadata": {},
   "source": [
    "#### Obtain the x and y coordinates for each of the three city types"
   ]
  },
  {
   "cell_type": "code",
   "execution_count": 2,
   "metadata": {},
   "outputs": [
    {
     "data": {
      "text/html": [
       "<div>\n",
       "<style scoped>\n",
       "    .dataframe tbody tr th:only-of-type {\n",
       "        vertical-align: middle;\n",
       "    }\n",
       "\n",
       "    .dataframe tbody tr th {\n",
       "        vertical-align: top;\n",
       "    }\n",
       "\n",
       "    .dataframe thead th {\n",
       "        text-align: right;\n",
       "    }\n",
       "</style>\n",
       "<table border=\"1\" class=\"dataframe\">\n",
       "  <thead>\n",
       "    <tr style=\"text-align: right;\">\n",
       "      <th></th>\n",
       "      <th>city</th>\n",
       "      <th>type</th>\n",
       "      <th>Total Number of Rides (Per City)</th>\n",
       "      <th>Average Fare ($)</th>\n",
       "      <th>Average Fare Per Driver($)</th>\n",
       "      <th>Driver Count per City</th>\n",
       "    </tr>\n",
       "  </thead>\n",
       "  <tbody>\n",
       "    <tr>\n",
       "      <th>0</th>\n",
       "      <td>Amandaburgh</td>\n",
       "      <td>Urban</td>\n",
       "      <td>18</td>\n",
       "      <td>24.64</td>\n",
       "      <td>2.05</td>\n",
       "      <td>216</td>\n",
       "    </tr>\n",
       "    <tr>\n",
       "      <th>1</th>\n",
       "      <td>Barajasview</td>\n",
       "      <td>Urban</td>\n",
       "      <td>22</td>\n",
       "      <td>25.33</td>\n",
       "      <td>0.97</td>\n",
       "      <td>572</td>\n",
       "    </tr>\n",
       "    <tr>\n",
       "      <th>2</th>\n",
       "      <td>Barronchester</td>\n",
       "      <td>Suburban</td>\n",
       "      <td>16</td>\n",
       "      <td>36.42</td>\n",
       "      <td>3.31</td>\n",
       "      <td>176</td>\n",
       "    </tr>\n",
       "    <tr>\n",
       "      <th>3</th>\n",
       "      <td>Bethanyland</td>\n",
       "      <td>Suburban</td>\n",
       "      <td>18</td>\n",
       "      <td>32.96</td>\n",
       "      <td>1.50</td>\n",
       "      <td>396</td>\n",
       "    </tr>\n",
       "    <tr>\n",
       "      <th>4</th>\n",
       "      <td>Bradshawfurt</td>\n",
       "      <td>Rural</td>\n",
       "      <td>10</td>\n",
       "      <td>40.06</td>\n",
       "      <td>5.72</td>\n",
       "      <td>70</td>\n",
       "    </tr>\n",
       "  </tbody>\n",
       "</table>\n",
       "</div>"
      ],
      "text/plain": [
       "            city      type  Total Number of Rides (Per City)  \\\n",
       "0    Amandaburgh     Urban                                18   \n",
       "1    Barajasview     Urban                                22   \n",
       "2  Barronchester  Suburban                                16   \n",
       "3    Bethanyland  Suburban                                18   \n",
       "4   Bradshawfurt     Rural                                10   \n",
       "\n",
       "   Average Fare ($)  Average Fare Per Driver($)  Driver Count per City  \n",
       "0             24.64                        2.05                    216  \n",
       "1             25.33                        0.97                    572  \n",
       "2             36.42                        3.31                    176  \n",
       "3             32.96                        1.50                    396  \n",
       "4             40.06                        5.72                     70  "
      ]
     },
     "execution_count": 2,
     "metadata": {},
     "output_type": "execute_result"
    }
   ],
   "source": [
    "gpby_city_and_type = pyber_df.groupby(['city','type'])\n",
    "cityType_df = pd.DataFrame(gpby_city_and_type[\"city\"].count())\n",
    "cityType_df = cityType_df.rename(columns={\"city\":\"Total Number of Rides (Per City)\"})\n",
    "cityType_df[\"Average Fare ($)\"] = gpby_city_and_type[\"fare\"].mean().round(2)\n",
    "cityType_df[\"Average Fare Per Driver($)\"] = gpby_city_and_type[\"av fare/driver\"].mean().round(2)\n",
    "cityType_df[\"Driver Count per City\"] = gpby_city_and_type[\"driver_count\"].sum()\n",
    "cityType_df = cityType_df.reset_index()\n",
    "cityType_df.head()\n"
   ]
  },
  {
   "cell_type": "code",
   "execution_count": 3,
   "metadata": {},
   "outputs": [
    {
     "data": {
      "text/html": [
       "<div>\n",
       "<style scoped>\n",
       "    .dataframe tbody tr th:only-of-type {\n",
       "        vertical-align: middle;\n",
       "    }\n",
       "\n",
       "    .dataframe tbody tr th {\n",
       "        vertical-align: top;\n",
       "    }\n",
       "\n",
       "    .dataframe thead th {\n",
       "        text-align: right;\n",
       "    }\n",
       "</style>\n",
       "<table border=\"1\" class=\"dataframe\">\n",
       "  <thead>\n",
       "    <tr style=\"text-align: right;\">\n",
       "      <th></th>\n",
       "      <th>Total Number of Rides (Per City)</th>\n",
       "      <th>Average Fare ($)</th>\n",
       "      <th>Average Fare Per Driver($)</th>\n",
       "      <th>Driver Count per City</th>\n",
       "    </tr>\n",
       "  </thead>\n",
       "  <tbody>\n",
       "    <tr>\n",
       "      <th>count</th>\n",
       "      <td>120.000000</td>\n",
       "      <td>120.00000</td>\n",
       "      <td>120.000000</td>\n",
       "      <td>120.000000</td>\n",
       "    </tr>\n",
       "    <tr>\n",
       "      <th>mean</th>\n",
       "      <td>19.791667</td>\n",
       "      <td>27.89100</td>\n",
       "      <td>4.596167</td>\n",
       "      <td>572.575000</td>\n",
       "    </tr>\n",
       "    <tr>\n",
       "      <th>std</th>\n",
       "      <td>7.878165</td>\n",
       "      <td>4.94443</td>\n",
       "      <td>8.485927</td>\n",
       "      <td>563.201498</td>\n",
       "    </tr>\n",
       "    <tr>\n",
       "      <th>min</th>\n",
       "      <td>3.000000</td>\n",
       "      <td>20.09000</td>\n",
       "      <td>0.300000</td>\n",
       "      <td>4.000000</td>\n",
       "    </tr>\n",
       "    <tr>\n",
       "      <th>25%</th>\n",
       "      <td>14.750000</td>\n",
       "      <td>24.08500</td>\n",
       "      <td>0.637500</td>\n",
       "      <td>117.500000</td>\n",
       "    </tr>\n",
       "    <tr>\n",
       "      <th>50%</th>\n",
       "      <td>20.000000</td>\n",
       "      <td>26.75000</td>\n",
       "      <td>1.390000</td>\n",
       "      <td>374.000000</td>\n",
       "    </tr>\n",
       "    <tr>\n",
       "      <th>75%</th>\n",
       "      <td>25.000000</td>\n",
       "      <td>30.95250</td>\n",
       "      <td>3.952500</td>\n",
       "      <td>940.250000</td>\n",
       "    </tr>\n",
       "    <tr>\n",
       "      <th>max</th>\n",
       "      <td>39.000000</td>\n",
       "      <td>43.28000</td>\n",
       "      <td>42.260000</td>\n",
       "      <td>2277.000000</td>\n",
       "    </tr>\n",
       "  </tbody>\n",
       "</table>\n",
       "</div>"
      ],
      "text/plain": [
       "       Total Number of Rides (Per City)  Average Fare ($)  \\\n",
       "count                        120.000000         120.00000   \n",
       "mean                          19.791667          27.89100   \n",
       "std                            7.878165           4.94443   \n",
       "min                            3.000000          20.09000   \n",
       "25%                           14.750000          24.08500   \n",
       "50%                           20.000000          26.75000   \n",
       "75%                           25.000000          30.95250   \n",
       "max                           39.000000          43.28000   \n",
       "\n",
       "       Average Fare Per Driver($)  Driver Count per City  \n",
       "count                  120.000000             120.000000  \n",
       "mean                     4.596167             572.575000  \n",
       "std                      8.485927             563.201498  \n",
       "min                      0.300000               4.000000  \n",
       "25%                      0.637500             117.500000  \n",
       "50%                      1.390000             374.000000  \n",
       "75%                      3.952500             940.250000  \n",
       "max                     42.260000            2277.000000  "
      ]
     },
     "execution_count": 3,
     "metadata": {},
     "output_type": "execute_result"
    }
   ],
   "source": [
    "cityType_df.describe()"
   ]
  },
  {
   "cell_type": "markdown",
   "metadata": {},
   "source": [
    "* Overall the drivers made between 0.3 to 42.26 dollars in fares with an average of 4.60 dollars"
   ]
  },
  {
   "cell_type": "code",
   "execution_count": 4,
   "metadata": {},
   "outputs": [
    {
     "data": {
      "text/html": [
       "<div>\n",
       "<style scoped>\n",
       "    .dataframe tbody tr th:only-of-type {\n",
       "        vertical-align: middle;\n",
       "    }\n",
       "\n",
       "    .dataframe tbody tr th {\n",
       "        vertical-align: top;\n",
       "    }\n",
       "\n",
       "    .dataframe thead th {\n",
       "        text-align: right;\n",
       "    }\n",
       "</style>\n",
       "<table border=\"1\" class=\"dataframe\">\n",
       "  <thead>\n",
       "    <tr style=\"text-align: right;\">\n",
       "      <th></th>\n",
       "      <th>Total Number of Rides (Per City)</th>\n",
       "      <th>Average Fare ($)</th>\n",
       "      <th>Average Fare Per Driver($)</th>\n",
       "      <th>Driver Count per City</th>\n",
       "    </tr>\n",
       "  </thead>\n",
       "  <tbody>\n",
       "    <tr>\n",
       "      <th>count</th>\n",
       "      <td>66.000000</td>\n",
       "      <td>66.000000</td>\n",
       "      <td>66.000000</td>\n",
       "      <td>66.000000</td>\n",
       "    </tr>\n",
       "    <tr>\n",
       "      <th>mean</th>\n",
       "      <td>24.621212</td>\n",
       "      <td>24.498939</td>\n",
       "      <td>1.216212</td>\n",
       "      <td>903.060606</td>\n",
       "    </tr>\n",
       "    <tr>\n",
       "      <th>std</th>\n",
       "      <td>5.408726</td>\n",
       "      <td>2.190288</td>\n",
       "      <td>1.457054</td>\n",
       "      <td>558.958947</td>\n",
       "    </tr>\n",
       "    <tr>\n",
       "      <th>min</th>\n",
       "      <td>12.000000</td>\n",
       "      <td>20.090000</td>\n",
       "      <td>0.300000</td>\n",
       "      <td>66.000000</td>\n",
       "    </tr>\n",
       "    <tr>\n",
       "      <th>25%</th>\n",
       "      <td>21.000000</td>\n",
       "      <td>22.797500</td>\n",
       "      <td>0.492500</td>\n",
       "      <td>445.500000</td>\n",
       "    </tr>\n",
       "    <tr>\n",
       "      <th>50%</th>\n",
       "      <td>24.000000</td>\n",
       "      <td>24.475000</td>\n",
       "      <td>0.700000</td>\n",
       "      <td>894.000000</td>\n",
       "    </tr>\n",
       "    <tr>\n",
       "      <th>75%</th>\n",
       "      <td>28.000000</td>\n",
       "      <td>25.965000</td>\n",
       "      <td>1.187500</td>\n",
       "      <td>1231.500000</td>\n",
       "    </tr>\n",
       "    <tr>\n",
       "      <th>max</th>\n",
       "      <td>39.000000</td>\n",
       "      <td>28.990000</td>\n",
       "      <td>7.670000</td>\n",
       "      <td>2277.000000</td>\n",
       "    </tr>\n",
       "  </tbody>\n",
       "</table>\n",
       "</div>"
      ],
      "text/plain": [
       "       Total Number of Rides (Per City)  Average Fare ($)  \\\n",
       "count                         66.000000         66.000000   \n",
       "mean                          24.621212         24.498939   \n",
       "std                            5.408726          2.190288   \n",
       "min                           12.000000         20.090000   \n",
       "25%                           21.000000         22.797500   \n",
       "50%                           24.000000         24.475000   \n",
       "75%                           28.000000         25.965000   \n",
       "max                           39.000000         28.990000   \n",
       "\n",
       "       Average Fare Per Driver($)  Driver Count per City  \n",
       "count                   66.000000              66.000000  \n",
       "mean                     1.216212             903.060606  \n",
       "std                      1.457054             558.958947  \n",
       "min                      0.300000              66.000000  \n",
       "25%                      0.492500             445.500000  \n",
       "50%                      0.700000             894.000000  \n",
       "75%                      1.187500            1231.500000  \n",
       "max                      7.670000            2277.000000  "
      ]
     },
     "execution_count": 4,
     "metadata": {},
     "output_type": "execute_result"
    }
   ],
   "source": [
    "cityType_df[cityType_df[\"type\"]==\"Urban\"].describe()"
   ]
  },
  {
   "cell_type": "markdown",
   "metadata": {},
   "source": [
    "* Urban drivers made between 0.3 and 7.67 dollars in fares with an average of 1.22 dollars"
   ]
  },
  {
   "cell_type": "code",
   "execution_count": 5,
   "metadata": {},
   "outputs": [
    {
     "data": {
      "text/html": [
       "<div>\n",
       "<style scoped>\n",
       "    .dataframe tbody tr th:only-of-type {\n",
       "        vertical-align: middle;\n",
       "    }\n",
       "\n",
       "    .dataframe tbody tr th {\n",
       "        vertical-align: top;\n",
       "    }\n",
       "\n",
       "    .dataframe thead th {\n",
       "        text-align: right;\n",
       "    }\n",
       "</style>\n",
       "<table border=\"1\" class=\"dataframe\">\n",
       "  <thead>\n",
       "    <tr style=\"text-align: right;\">\n",
       "      <th></th>\n",
       "      <th>Total Number of Rides (Per City)</th>\n",
       "      <th>Average Fare ($)</th>\n",
       "      <th>Average Fare Per Driver($)</th>\n",
       "      <th>Driver Count per City</th>\n",
       "    </tr>\n",
       "  </thead>\n",
       "  <tbody>\n",
       "    <tr>\n",
       "      <th>count</th>\n",
       "      <td>36.000000</td>\n",
       "      <td>36.000000</td>\n",
       "      <td>36.000000</td>\n",
       "      <td>36.000000</td>\n",
       "    </tr>\n",
       "    <tr>\n",
       "      <th>mean</th>\n",
       "      <td>17.361111</td>\n",
       "      <td>30.736667</td>\n",
       "      <td>5.151667</td>\n",
       "      <td>238.055556</td>\n",
       "    </tr>\n",
       "    <tr>\n",
       "      <th>std</th>\n",
       "      <td>4.323707</td>\n",
       "      <td>2.661795</td>\n",
       "      <td>7.041314</td>\n",
       "      <td>159.429688</td>\n",
       "    </tr>\n",
       "    <tr>\n",
       "      <th>min</th>\n",
       "      <td>9.000000</td>\n",
       "      <td>24.700000</td>\n",
       "      <td>1.100000</td>\n",
       "      <td>14.000000</td>\n",
       "    </tr>\n",
       "    <tr>\n",
       "      <th>25%</th>\n",
       "      <td>14.000000</td>\n",
       "      <td>29.472500</td>\n",
       "      <td>1.490000</td>\n",
       "      <td>103.750000</td>\n",
       "    </tr>\n",
       "    <tr>\n",
       "      <th>50%</th>\n",
       "      <td>17.000000</td>\n",
       "      <td>30.900000</td>\n",
       "      <td>1.970000</td>\n",
       "      <td>245.000000</td>\n",
       "    </tr>\n",
       "    <tr>\n",
       "      <th>75%</th>\n",
       "      <td>19.250000</td>\n",
       "      <td>31.985000</td>\n",
       "      <td>4.895000</td>\n",
       "      <td>345.250000</td>\n",
       "    </tr>\n",
       "    <tr>\n",
       "      <th>max</th>\n",
       "      <td>27.000000</td>\n",
       "      <td>36.420000</td>\n",
       "      <td>33.960000</td>\n",
       "      <td>675.000000</td>\n",
       "    </tr>\n",
       "  </tbody>\n",
       "</table>\n",
       "</div>"
      ],
      "text/plain": [
       "       Total Number of Rides (Per City)  Average Fare ($)  \\\n",
       "count                         36.000000         36.000000   \n",
       "mean                          17.361111         30.736667   \n",
       "std                            4.323707          2.661795   \n",
       "min                            9.000000         24.700000   \n",
       "25%                           14.000000         29.472500   \n",
       "50%                           17.000000         30.900000   \n",
       "75%                           19.250000         31.985000   \n",
       "max                           27.000000         36.420000   \n",
       "\n",
       "       Average Fare Per Driver($)  Driver Count per City  \n",
       "count                   36.000000              36.000000  \n",
       "mean                     5.151667             238.055556  \n",
       "std                      7.041314             159.429688  \n",
       "min                      1.100000              14.000000  \n",
       "25%                      1.490000             103.750000  \n",
       "50%                      1.970000             245.000000  \n",
       "75%                      4.895000             345.250000  \n",
       "max                     33.960000             675.000000  "
      ]
     },
     "execution_count": 5,
     "metadata": {},
     "output_type": "execute_result"
    }
   ],
   "source": [
    "cityType_df[cityType_df[\"type\"]==\"Suburban\"].describe()"
   ]
  },
  {
   "cell_type": "markdown",
   "metadata": {},
   "source": [
    "* Suburban drivers made between 1.10 and 33.96 dollars in fares with an average of 5.15 dollars"
   ]
  },
  {
   "cell_type": "code",
   "execution_count": 6,
   "metadata": {},
   "outputs": [
    {
     "data": {
      "text/html": [
       "<div>\n",
       "<style scoped>\n",
       "    .dataframe tbody tr th:only-of-type {\n",
       "        vertical-align: middle;\n",
       "    }\n",
       "\n",
       "    .dataframe tbody tr th {\n",
       "        vertical-align: top;\n",
       "    }\n",
       "\n",
       "    .dataframe thead th {\n",
       "        text-align: right;\n",
       "    }\n",
       "</style>\n",
       "<table border=\"1\" class=\"dataframe\">\n",
       "  <thead>\n",
       "    <tr style=\"text-align: right;\">\n",
       "      <th></th>\n",
       "      <th>Total Number of Rides (Per City)</th>\n",
       "      <th>Average Fare ($)</th>\n",
       "      <th>Average Fare Per Driver($)</th>\n",
       "      <th>Driver Count per City</th>\n",
       "    </tr>\n",
       "  </thead>\n",
       "  <tbody>\n",
       "    <tr>\n",
       "      <th>count</th>\n",
       "      <td>18.000000</td>\n",
       "      <td>18.000000</td>\n",
       "      <td>18.000000</td>\n",
       "      <td>18.000000</td>\n",
       "    </tr>\n",
       "    <tr>\n",
       "      <th>mean</th>\n",
       "      <td>6.944444</td>\n",
       "      <td>34.637222</td>\n",
       "      <td>15.878333</td>\n",
       "      <td>29.833333</td>\n",
       "    </tr>\n",
       "    <tr>\n",
       "      <th>std</th>\n",
       "      <td>2.508157</td>\n",
       "      <td>5.309819</td>\n",
       "      <td>14.632224</td>\n",
       "      <td>23.124344</td>\n",
       "    </tr>\n",
       "    <tr>\n",
       "      <th>min</th>\n",
       "      <td>3.000000</td>\n",
       "      <td>24.120000</td>\n",
       "      <td>3.300000</td>\n",
       "      <td>4.000000</td>\n",
       "    </tr>\n",
       "    <tr>\n",
       "      <th>25%</th>\n",
       "      <td>5.250000</td>\n",
       "      <td>31.467500</td>\n",
       "      <td>5.307500</td>\n",
       "      <td>9.000000</td>\n",
       "    </tr>\n",
       "    <tr>\n",
       "      <th>50%</th>\n",
       "      <td>6.000000</td>\n",
       "      <td>35.125000</td>\n",
       "      <td>8.420000</td>\n",
       "      <td>24.000000</td>\n",
       "    </tr>\n",
       "    <tr>\n",
       "      <th>75%</th>\n",
       "      <td>8.750000</td>\n",
       "      <td>36.602500</td>\n",
       "      <td>28.510000</td>\n",
       "      <td>42.750000</td>\n",
       "    </tr>\n",
       "    <tr>\n",
       "      <th>max</th>\n",
       "      <td>12.000000</td>\n",
       "      <td>43.280000</td>\n",
       "      <td>42.260000</td>\n",
       "      <td>72.000000</td>\n",
       "    </tr>\n",
       "  </tbody>\n",
       "</table>\n",
       "</div>"
      ],
      "text/plain": [
       "       Total Number of Rides (Per City)  Average Fare ($)  \\\n",
       "count                         18.000000         18.000000   \n",
       "mean                           6.944444         34.637222   \n",
       "std                            2.508157          5.309819   \n",
       "min                            3.000000         24.120000   \n",
       "25%                            5.250000         31.467500   \n",
       "50%                            6.000000         35.125000   \n",
       "75%                            8.750000         36.602500   \n",
       "max                           12.000000         43.280000   \n",
       "\n",
       "       Average Fare Per Driver($)  Driver Count per City  \n",
       "count                   18.000000              18.000000  \n",
       "mean                    15.878333              29.833333  \n",
       "std                     14.632224              23.124344  \n",
       "min                      3.300000               4.000000  \n",
       "25%                      5.307500               9.000000  \n",
       "50%                      8.420000              24.000000  \n",
       "75%                     28.510000              42.750000  \n",
       "max                     42.260000              72.000000  "
      ]
     },
     "execution_count": 6,
     "metadata": {},
     "output_type": "execute_result"
    }
   ],
   "source": [
    "cityType_df[cityType_df[\"type\"]==\"Rural\"].describe()"
   ]
  },
  {
   "cell_type": "markdown",
   "metadata": {},
   "source": [
    "* Rural drivers made between 3.30 and 42.26 dollars in fares with an average of 15.88 dollars"
   ]
  },
  {
   "cell_type": "code",
   "execution_count": 7,
   "metadata": {},
   "outputs": [],
   "source": [
    "urban_x = cityType_df[\"Total Number of Rides (Per City)\"][cityType_df[\"type\"]==\"Urban\"].tolist()\n",
    "urban_y = cityType_df[\"Average Fare ($)\"][cityType_df[\"type\"]==\"Urban\"].tolist()\n",
    "urban_s = cityType_df[\"Driver Count per City\"][cityType_df[\"type\"]==\"Urban\"].tolist()\n",
    "\n",
    "suburban_x = cityType_df[\"Total Number of Rides (Per City)\"][cityType_df[\"type\"]==\"Suburban\"].tolist()\n",
    "suburban_y = cityType_df[\"Average Fare ($)\"][cityType_df[\"type\"]==\"Suburban\"].tolist()\n",
    "suburban_s = cityType_df[\"Driver Count per City\"][cityType_df[\"type\"]==\"Suburban\"].tolist()\n",
    "\n",
    "rural_x = cityType_df[\"Total Number of Rides (Per City)\"][cityType_df[\"type\"]==\"Rural\"].tolist()\n",
    "rural_y = cityType_df[\"Average Fare ($)\"][cityType_df[\"type\"]==\"Rural\"].tolist()\n",
    "rural_s = cityType_df[\"Driver Count per City\"][cityType_df[\"type\"]==\"Rural\"].tolist()\n"
   ]
  },
  {
   "cell_type": "markdown",
   "metadata": {},
   "source": [
    "#### Build the scatter plots for each city types"
   ]
  },
  {
   "cell_type": "code",
   "execution_count": 8,
   "metadata": {},
   "outputs": [
    {
     "data": {
      "image/png": "[encoded data removed]",
      "text/plain": [
       "<Figure size 432x288 with 1 Axes>"
      ]
     },
     "metadata": {
      "needs_background": "light"
     },
     "output_type": "display_data"
    }
   ],
   "source": [
    "plt.scatter(urban_x, urban_y, s=urban_s,  label='Urban', alpha=0.75, facecolors=\"coral\", edgecolors=\"black\")\n",
    "plt.scatter(suburban_x, suburban_y, s=suburban_s,  label='Suburban', alpha=0.75, facecolors=\"skyblue\", edgecolors=\"black\")\n",
    "plt.scatter(rural_x, rural_y, s=rural_s,  label='Rural', alpha=0.75, facecolors=\"yellow\", edgecolors=\"black\")\n",
    "\n",
    "#### Incorporate the other graph properties\n",
    "plt.xlabel(\"Total Number of Rides (Per City)\")\n",
    "plt.ylabel(\"Average Fare ($)\")\n",
    "plt.title(\"Pyber Ride Sharing Data (2016)\")\n",
    "\n",
    "#### Create a legend\n",
    "lgnd = plt.legend(loc=\"best\")\n",
    "\n",
    "lgnd.legendHandles[0]._sizes = [30]\n",
    "lgnd.legendHandles[1]._sizes = [30]\n",
    "lgnd.legendHandles[2]._sizes = [30]\n",
    "\n",
    "plt.grid(True)\n",
    "\n",
    "#### Incorporate a text label regarding circle size\n",
    "plt.text(42,36, 'Note:\\nCircle size correlates with driver count per city',\n",
    "         horizontalalignment='left',\n",
    "         verticalalignment='center')\n",
    "\n",
    "#### Save Figure\n",
    "plt.savefig(\"Images/RideSharingData.png\")\n",
    "\n",
    "#### Show plot\n",
    "plt.show()\n",
    "\n",
    "# experiment with effects like `alpha`, `edgecolor`, and `linewidths`.\n"
   ]
  },
  {
   "cell_type": "markdown",
   "metadata": {},
   "source": [
    "# Another Bubble Plot of Ride Sharing Data"
   ]
  },
  {
   "cell_type": "code",
   "execution_count": 9,
   "metadata": {},
   "outputs": [
    {
     "data": {
      "image/png": "[encoded data removed]",
      "text/plain": [
       "<Figure size 432x288 with 2 Axes>"
      ]
     },
     "metadata": {
      "needs_background": "light"
     },
     "output_type": "display_data"
    }
   ],
   "source": [
    "typeDict =  {\"Urban\":1, \"Suburban\":2, \"Rural\":3 }\n",
    "cityType_df[\"urban-suburban-rural\"] = [typeDict[item] for item in cityType_df[\"type\"]] \n",
    "cityType_df.head()\n",
    "cityType_df.plot.scatter(x=\"Total Number of Rides (Per City)\",\n",
    "                          y=\"Average Fare ($)\",\n",
    "                          c=\"urban-suburban-rural\",\n",
    "                          colormap='winter', \n",
    "                          edgecolor='black',\n",
    "                          s=cityType_df[\"Driver Count per City\"].tolist(),\n",
    "                          title=\"Pyber Ride Sharing Data (2016)\",\n",
    "                          grid=True)\n",
    "\n",
    "# Incorporate the other graph properties\n",
    "plt.text(55,36, 'Note:\\nCircle size correlates with driver count per city',\n",
    "         horizontalalignment='left',\n",
    "         verticalalignment='center')\n",
    "plt.xlabel(\"Total Number of Rides (Per City)\")\n",
    "\n",
    "plt.show()\n",
    "\n",
    "# experiment with effects like `alpha`, `edgecolor`, and `linewidths`.\n",
    "\n",
    "# why does the xlabel not show?"
   ]
  },
  {
   "cell_type": "markdown",
   "metadata": {},
   "source": [
    "## Total Fares by City Type"
   ]
  },
  {
   "cell_type": "code",
   "execution_count": 10,
   "metadata": {},
   "outputs": [
    {
     "data": {
      "text/html": [
       "<div>\n",
       "<style scoped>\n",
       "    .dataframe tbody tr th:only-of-type {\n",
       "        vertical-align: middle;\n",
       "    }\n",
       "\n",
       "    .dataframe tbody tr th {\n",
       "        vertical-align: top;\n",
       "    }\n",
       "\n",
       "    .dataframe thead th {\n",
       "        text-align: right;\n",
       "    }\n",
       "</style>\n",
       "<table border=\"1\" class=\"dataframe\">\n",
       "  <thead>\n",
       "    <tr style=\"text-align: right;\">\n",
       "      <th></th>\n",
       "      <th>fare</th>\n",
       "      <th>%fare</th>\n",
       "    </tr>\n",
       "    <tr>\n",
       "      <th>type</th>\n",
       "      <th></th>\n",
       "      <th></th>\n",
       "    </tr>\n",
       "  </thead>\n",
       "  <tbody>\n",
       "    <tr>\n",
       "      <th>Rural</th>\n",
       "      <td>4327.93</td>\n",
       "      <td>6.811493</td>\n",
       "    </tr>\n",
       "    <tr>\n",
       "      <th>Suburban</th>\n",
       "      <td>19356.33</td>\n",
       "      <td>30.463872</td>\n",
       "    </tr>\n",
       "    <tr>\n",
       "      <th>Urban</th>\n",
       "      <td>39854.38</td>\n",
       "      <td>62.724635</td>\n",
       "    </tr>\n",
       "  </tbody>\n",
       "</table>\n",
       "</div>"
      ],
      "text/plain": [
       "              fare      %fare\n",
       "type                         \n",
       "Rural      4327.93   6.811493\n",
       "Suburban  19356.33  30.463872\n",
       "Urban     39854.38  62.724635"
      ]
     },
     "execution_count": 10,
     "metadata": {},
     "output_type": "execute_result"
    }
   ],
   "source": [
    "gpby_type = pyber_df.groupby('type')\n",
    "cityTypeFares_df = pd.DataFrame(gpby_type[\"fare\"].sum())\n",
    "\n",
    "# Calculate Type Percents\n",
    "cityTypeFares_df[\"%fare\"] = 100 * cityTypeFares_df['fare'] / cityTypeFares_df['fare'].sum()\n",
    "cityTypeFares_df"
   ]
  },
  {
   "cell_type": "code",
   "execution_count": 11,
   "metadata": {},
   "outputs": [
    {
     "data": {
      "image/png": "[encoded data removed]",
      "text/plain": [
       "<Figure size 432x288 with 1 Axes>"
      ]
     },
     "metadata": {},
     "output_type": "display_data"
    }
   ],
   "source": [
    "# Build Pie Chart\n",
    "cityTypeFares_df.plot.pie(\"%fare\",\n",
    "                     explode=[0,0,0.1],\n",
    "                     colors=['gold','lightskyblue','lightcoral'],\n",
    "                     autopct=\"%1.1f%%\", shadow=True, startangle=150)\n",
    "\n",
    "plt.title(\"% of Total Fares by City Type\")\n",
    "\n",
    "plt.legend(title=\"City Types\",\n",
    "          loc=\"lower left\",\n",
    "          bbox_to_anchor=(1, 0, 0.5, 1))\n",
    "\n",
    "plt.grid(True)\n",
    "\n",
    "# Save Figure\n",
    "plt.savefig(\"Images/TotalFaresbyCityType.png\")\n",
    "\n",
    "# Show Figure\n",
    "plt.show()\n",
    "\n"
   ]
  },
  {
   "cell_type": "markdown",
   "metadata": {},
   "source": [
    "## Total Rides by City Type"
   ]
  },
  {
   "cell_type": "code",
   "execution_count": 12,
   "metadata": {},
   "outputs": [
    {
     "data": {
      "image/png": "[encoded data removed]",
      "text/plain": [
       "<Figure size 720x360 with 1 Axes>"
      ]
     },
     "metadata": {},
     "output_type": "display_data"
    }
   ],
   "source": [
    "# Calculate Ride Percents\n",
    "cityTypeRides_df = pd.DataFrame(gpby_type[\"city\"].count())\n",
    "cityTypeRides_df = cityTypeRides_df.rename(columns={\"city\":\"rides\"})\n",
    "\n",
    "# Calculate Type Percents\n",
    "cityTypeRides_df[\"%rides\"] = 100 * cityTypeRides_df['rides'] / cityTypeRides_df['rides'].sum()\n",
    "\n",
    "cityTypeRides_df.plot.pie(\"%rides\", figsize=(10, 5),\n",
    "                     explode=(0,0,0.1), \n",
    "                     colors=('gold','lightskyblue','lightcoral'),\n",
    "                     autopct=\"%1.1f%%\", shadow=True, startangle=160)\n",
    "\n",
    "plt.title(\"% of Total Rides by City Type\")\n",
    "\n",
    "plt.legend(title=\"City Types\",\n",
    "          loc=\"lower left\",\n",
    "          bbox_to_anchor=(1, 0, 0.5, 1))\n",
    "\n",
    "plt.grid(True)\n",
    "\n",
    "\n",
    "# Save Figure\n",
    "plt.savefig(\"Images/TotalRidesbyCityType.png\")\n",
    "\n",
    "# Show Figure\n",
    "plt.show()\n"
   ]
  },
  {
   "cell_type": "markdown",
   "metadata": {},
   "source": [
    "## Total Drivers by City Type"
   ]
  },
  {
   "cell_type": "code",
   "execution_count": 13,
   "metadata": {},
   "outputs": [
    {
     "data": {
      "image/png": "[encoded data removed]",
      "text/plain": [
       "<Figure size 360x360 with 1 Axes>"
      ]
     },
     "metadata": {},
     "output_type": "display_data"
    }
   ],
   "source": [
    "# Calculate Driver Percents\n",
    "total_drivers = pyber_df[\"driver_count\"].sum()\n",
    "\n",
    "cityTypeDrivers_df = pd.DataFrame(gpby_type[\"driver_count\"].sum())\n",
    "\n",
    "cityTypeDrivers_df[\"%driver_count\"] = 100 * cityTypeDrivers_df['driver_count'] / total_drivers\n",
    "\n",
    "cityTypeDrivers_df.plot.pie(\"%driver_count\", figsize=(5, 5),\n",
    "                     explode=(0,0,0.1),\n",
    "                     colors=('gold','lightskyblue','lightcoral'),\n",
    "                     autopct=\"%1.1f%%\", shadow=True, startangle=160)\n",
    "\n",
    "plt.title(\"% of Total Drivers by City Type\")\n",
    "\n",
    "plt.legend(title=\"City Types\",\n",
    "          loc=\"lower left\",\n",
    "          bbox_to_anchor=(1, 0, 0.5, 1))\n",
    "plt.grid(True)\n",
    "\n",
    "\n",
    "# Save Figure\n",
    "plt.savefig(\"Images/TotalDriversbyCityType.png\")\n",
    "\n",
    "# Show Figure\n",
    "plt.show()\n"
   ]
  },
  {
   "cell_type": "code",
   "execution_count": 14,
   "metadata": {},
   "outputs": [
    {
     "data": {
      "text/html": [
       "<div>\n",
       "<style scoped>\n",
       "    .dataframe tbody tr th:only-of-type {\n",
       "        vertical-align: middle;\n",
       "    }\n",
       "\n",
       "    .dataframe tbody tr th {\n",
       "        vertical-align: top;\n",
       "    }\n",
       "\n",
       "    .dataframe thead th {\n",
       "        text-align: right;\n",
       "    }\n",
       "</style>\n",
       "<table border=\"1\" class=\"dataframe\">\n",
       "  <thead>\n",
       "    <tr style=\"text-align: right;\">\n",
       "      <th></th>\n",
       "      <th>driver_count</th>\n",
       "      <th>%driver_count</th>\n",
       "    </tr>\n",
       "    <tr>\n",
       "      <th>type</th>\n",
       "      <th></th>\n",
       "      <th></th>\n",
       "    </tr>\n",
       "  </thead>\n",
       "  <tbody>\n",
       "    <tr>\n",
       "      <th>Rural</th>\n",
       "      <td>537</td>\n",
       "      <td>0.781557</td>\n",
       "    </tr>\n",
       "    <tr>\n",
       "      <th>Suburban</th>\n",
       "      <td>8570</td>\n",
       "      <td>12.472893</td>\n",
       "    </tr>\n",
       "    <tr>\n",
       "      <th>Urban</th>\n",
       "      <td>59602</td>\n",
       "      <td>86.745550</td>\n",
       "    </tr>\n",
       "  </tbody>\n",
       "</table>\n",
       "</div>"
      ],
      "text/plain": [
       "          driver_count  %driver_count\n",
       "type                                 \n",
       "Rural              537       0.781557\n",
       "Suburban          8570      12.472893\n",
       "Urban            59602      86.745550"
      ]
     },
     "execution_count": 14,
     "metadata": {},
     "output_type": "execute_result"
    }
   ],
   "source": [
    "cityTypeDrivers_df"
   ]
  },
  {
   "cell_type": "markdown",
   "metadata": {},
   "source": [
    "Verify the numbers from the original data frame:"
   ]
  },
  {
   "cell_type": "code",
   "execution_count": 15,
   "metadata": {},
   "outputs": [
    {
     "data": {
      "text/plain": [
       "'59602, 8570, 537, 68709'"
      ]
     },
     "execution_count": 15,
     "metadata": {},
     "output_type": "execute_result"
    }
   ],
   "source": [
    "urban_drivers = pyber_df[\"driver_count\"][pyber_df[\"type\"]==\"Urban\"].sum()\n",
    "suburban_drivers = pyber_df[\"driver_count\"][pyber_df[\"type\"]==\"Suburban\"].sum()\n",
    "rural_drivers = pyber_df[\"driver_count\"][pyber_df[\"type\"]==\"Rural\"].sum()\n",
    "\"{}, {}, {}, {}\".format(urban_drivers, suburban_drivers, rural_drivers, total_drivers)"
   ]
  },
  {
   "cell_type": "code",
   "execution_count": 16,
   "metadata": {},
   "outputs": [
    {
     "data": {
      "text/plain": [
       "'86.75%, 12.47%, 0.78%'"
      ]
     },
     "execution_count": 16,
     "metadata": {},
     "output_type": "execute_result"
    }
   ],
   "source": [
    "\"{:0.2f}%, {:0.2f}%, {:0.2f}%\".format(100*urban_drivers/total_drivers, 100*suburban_drivers/total_drivers, \\\n",
    "                        100*rural_drivers/total_drivers)"
   ]
  }
 ],
 "metadata": {
  "anaconda-cloud": {},
  "kernelspec": {
   "display_name": "Python [conda env:PythonData]",
   "language": "python",
   "name": "pythondata"
  },
  "language_info": {
   "codemirror_mode": {
    "name": "ipython",
    "version": 3
   },
   "file_extension": ".py",
   "mimetype": "text/x-python",
   "name": "python",
   "nbconvert_exporter": "python",
   "pygments_lexer": "ipython3",
   "version": "3.6.8"
  }
 },
 "nbformat": 4,
 "nbformat_minor": 2
}
